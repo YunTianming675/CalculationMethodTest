{
 "cells": [
  {
   "cell_type": "code",
   "execution_count": 7,
   "metadata": {},
   "outputs": [],
   "source": [
    "import copy\n",
    "import numpy"
   ]
  },
  {
   "cell_type": "code",
   "execution_count": 2,
   "metadata": {},
   "outputs": [],
   "source": [
    "coeff = numpy.array([[2, 2, 3], [4, 7, 7], [-2, 4, 5]], dtype=float)"
   ]
  },
  {
   "cell_type": "code",
   "execution_count": 3,
   "metadata": {},
   "outputs": [],
   "source": [
    "L = numpy.zeros(coeff.shape)\n",
    "U = numpy.zeros(coeff.shape)"
   ]
  },
  {
   "cell_type": "markdown",
   "metadata": {},
   "source": [
    "# 计算 U1 和 L1"
   ]
  },
  {
   "cell_type": "code",
   "execution_count": 4,
   "metadata": {},
   "outputs": [
    {
     "name": "stdout",
     "output_type": "stream",
     "text": [
      "[[2. 2. 3.]\n",
      " [0. 0. 0.]\n",
      " [0. 0. 0.]]\n"
     ]
    }
   ],
   "source": [
    "# 计算 U1\n",
    "row = coeff.shape[0]\n",
    "col = coeff.shape[1]\n",
    "U[0] = coeff[0]\n",
    "print(U)"
   ]
  },
  {
   "cell_type": "code",
   "execution_count": 5,
   "metadata": {},
   "outputs": [
    {
     "name": "stdout",
     "output_type": "stream",
     "text": [
      "[[ 1.  0.  0.]\n",
      " [ 2.  0.  0.]\n",
      " [-1.  0.  0.]]\n"
     ]
    }
   ],
   "source": [
    "# 计算L1\n",
    "L[0][0] = 1\n",
    "for i in range(1, row):\n",
    "    L[i][0] = coeff[i][0] / U[0][0]\n",
    "print(L)"
   ]
  },
  {
   "cell_type": "markdown",
   "metadata": {},
   "source": [
    "# 计算 U2 和 L2"
   ]
  },
  {
   "cell_type": "code",
   "execution_count": 14,
   "metadata": {},
   "outputs": [
    {
     "name": "stdout",
     "output_type": "stream",
     "text": [
      "[[2. 2. 3.]\n",
      " [0. 3. 1.]\n",
      " [0. 0. 0.]]\n"
     ]
    }
   ],
   "source": [
    "# 计算 U2\n",
    "k = 1\n",
    "i = k\n",
    "U1 = copy.deepcopy(U)\n",
    "while i < col:\n",
    "    t_sum = 0\n",
    "    j = 0\n",
    "    while j < k:\n",
    "        t_sum = t_sum + L[k][j] * U[j][i]\n",
    "        j += 1\n",
    "    U[k][i] = coeff[k][i] - t_sum\n",
    "    i += 1\n",
    "print(U)"
   ]
  },
  {
   "cell_type": "code",
   "execution_count": 18,
   "metadata": {},
   "outputs": [
    {
     "name": "stdout",
     "output_type": "stream",
     "text": [
      "[[ 1.  0.  0.]\n",
      " [ 2.  1.  0.]\n",
      " [-1.  2.  0.]]\n"
     ]
    }
   ],
   "source": [
    "# 计算 L2\n",
    "i = k\n",
    "L[i][k] = 1\n",
    "i += 1\n",
    "L1 = copy.deepcopy(L)\n",
    "while i < row:\n",
    "    t_sum = 0\n",
    "    j = 0\n",
    "    while j < k:\n",
    "        t_sum = t_sum + L[i][j] * U[j][k]\n",
    "        j += 1\n",
    "    L[i][k] = (coeff[i][k] - t_sum) / U[k][k]\n",
    "    i += 1\n",
    "print(L)"
   ]
  },
  {
   "cell_type": "markdown",
   "metadata": {},
   "source": [
    "# 计算 U3 和 L3"
   ]
  },
  {
   "cell_type": "code",
   "execution_count": 19,
   "metadata": {},
   "outputs": [
    {
     "name": "stdout",
     "output_type": "stream",
     "text": [
      "[[2. 2. 3.]\n",
      " [0. 3. 1.]\n",
      " [0. 0. 6.]]\n"
     ]
    }
   ],
   "source": [
    "# 计算 U3\n",
    "k = 2\n",
    "i = k\n",
    "U1 = copy.deepcopy(U)\n",
    "while i < col:\n",
    "    t_sum = 0\n",
    "    j = 0\n",
    "    while j < k:\n",
    "        t_sum = t_sum + L[k][j] * U[j][i]\n",
    "        j += 1\n",
    "    U1[k][i] = coeff[k][i] - t_sum\n",
    "    i += 1\n",
    "print(U1)"
   ]
  },
  {
   "cell_type": "code",
   "execution_count": 21,
   "metadata": {},
   "outputs": [
    {
     "name": "stdout",
     "output_type": "stream",
     "text": [
      "[[ 1.  0.  0.]\n",
      " [ 2.  1.  0.]\n",
      " [-1.  2.  1.]]\n"
     ]
    }
   ],
   "source": [
    "# 计算 L3\n",
    "i = k\n",
    "L[i][k] = 1\n",
    "i += 1\n",
    "L1 = copy.deepcopy(L)\n",
    "while i < row:\n",
    "    t_sum = 0\n",
    "    j = 0\n",
    "    while j < k:\n",
    "        t_sum = t_sum + L[i][j] * U[j][k]\n",
    "        j += 1\n",
    "    L[i][k] = (coeff[i][k] - t_sum) / U[k][k]\n",
    "    i += 1\n",
    "print(L)"
   ]
  },
  {
   "cell_type": "markdown",
   "metadata": {},
   "source": [
    "# 封装为函数"
   ]
  },
  {
   "cell_type": "code",
   "execution_count": 31,
   "metadata": {},
   "outputs": [],
   "source": [
    "def LUDecompose(A: numpy.ndarray) -> dict:\n",
    "    \"\"\"矩阵的 LU 分解，杜利特尔形式\n",
    "    Args:\n",
    "        :param A - 待分解的矩阵\n",
    "    Returns:\n",
    "        dict - 一个包含分解后L和U阵的字典\n",
    "    \"\"\"\n",
    "    row = A.shape[0]\n",
    "    col = A.shape[1]\n",
    "    L = numpy.identity(min(A.shape), dtype=float)\n",
    "    U = numpy.zeros(A.shape, dtype=float)\n",
    "\n",
    "    U[0] = A[0]\n",
    "    for i in range(1, row):\n",
    "        L[i][0] = A[i][0] / U[0][0]\n",
    "    \n",
    "    k = 1\n",
    "    while k < row:\n",
    "        # 计算U\n",
    "        i = k\n",
    "        while i < col:\n",
    "            t_sum = 0\n",
    "            j = 0\n",
    "            while j < k:\n",
    "                t_sum = t_sum + L[k][j] * U[j][i]\n",
    "                j += 1\n",
    "            U[k][i] = A[k][i] - t_sum\n",
    "            i += 1\n",
    "        # 计算L\n",
    "        i = k + 1\n",
    "        while i < row:\n",
    "            t_sum = 0\n",
    "            j = 0\n",
    "            while j < k:\n",
    "                t_sum = t_sum + L[i][j] * U[j][k]\n",
    "                j += 1\n",
    "            L[i][k] = (A[i][k] - t_sum) / U[k][k]\n",
    "            i += 1\n",
    "        k += 1\n",
    "    \n",
    "    return {\"L\": L, \"U\":U}"
   ]
  },
  {
   "cell_type": "code",
   "execution_count": 32,
   "metadata": {},
   "outputs": [
    {
     "name": "stdout",
     "output_type": "stream",
     "text": [
      "[[ 1.  0.  0.]\n",
      " [ 2.  1.  0.]\n",
      " [-1.  2.  1.]]\n",
      "[[2. 2. 3.]\n",
      " [0. 3. 1.]\n",
      " [0. 0. 6.]]\n"
     ]
    }
   ],
   "source": [
    "t1 = LUDecompose(numpy.array([[2, 2, 3], [4, 7, 7], [-2, 4, 5]], dtype=float))\n",
    "print(t1[\"L\"])\n",
    "print(t1[\"U\"])"
   ]
  },
  {
   "cell_type": "code",
   "execution_count": 33,
   "metadata": {},
   "outputs": [
    {
     "name": "stdout",
     "output_type": "stream",
     "text": [
      "[[ 1.  0.  0.]\n",
      " [ 2.  1.  0.]\n",
      " [ 3. -2.  1.]]\n",
      "[[ 2.  1.  2.]\n",
      " [ 0.  1. -3.]\n",
      " [ 0.  0. -7.]]\n"
     ]
    }
   ],
   "source": [
    "t2 = LUDecompose(numpy.array([[2, 1, 2], [4, 3, 1], [6, 1, 5]], dtype=float))\n",
    "print(t2[\"L\"])\n",
    "print(t2[\"U\"])"
   ]
  },
  {
   "cell_type": "code",
   "execution_count": 34,
   "metadata": {},
   "outputs": [
    {
     "name": "stdout",
     "output_type": "stream",
     "text": [
      "[[1. 0. 0. 0.]\n",
      " [1. 1. 0. 0.]\n",
      " [2. 2. 1. 0.]\n",
      " [3. 5. 2. 1.]]\n",
      "[[  2.   2.   3.   4.]\n",
      " [  0.   2.   6.  12.]\n",
      " [  0.   0.   6.  32.]\n",
      " [  0.   0.   0. -36.]]\n"
     ]
    }
   ],
   "source": [
    "t3 = LUDecompose(numpy.array([[2, 2, 3, 4], [2, 4, 9, 16], [4, 8, 24, 64], [6, 16, 51, 100]], dtype=float))\n",
    "print(t3[\"L\"])\n",
    "print(t3[\"U\"])"
   ]
  },
  {
   "cell_type": "code",
   "execution_count": 62,
   "metadata": {},
   "outputs": [
    {
     "name": "stdout",
     "output_type": "stream",
     "text": [
      "[[1. 0. 0. 0.]\n",
      " [1. 1. 0. 0.]\n",
      " [2. 2. 1. 0.]\n",
      " [3. 5. 2. 1.]]\n",
      "[[  2.   2.   3.   4.   1.]\n",
      " [  0.   2.   6.  12.   0.]\n",
      " [  0.   0.   6.  31.   1.]\n",
      " [  0.   0.   0. -34. -34.]]\n"
     ]
    }
   ],
   "source": [
    "t4 = LUDecompose(numpy.array([[2, 2, 3, 4, 1], [2, 4, 9, 16, 1], [4, 8, 24, 63, 3], [6, 16, 51, 100, -29]], dtype=float))\n",
    "print(t4[\"L\"])\n",
    "print(t4[\"U\"])"
   ]
  },
  {
   "cell_type": "code",
   "execution_count": 60,
   "metadata": {},
   "outputs": [
    {
     "name": "stdout",
     "output_type": "stream",
     "text": [
      "[[-7.13970588]\n",
      " [ 6.72058824]\n",
      " [-0.68137255]\n",
      " [-0.02941176]]\n"
     ]
    }
   ],
   "source": [
    "c = t4[\"U\"].T[0:4][:].T\n",
    "b = t4[\"U\"].T[4].reshape((4, 1))\n",
    "n = c.shape[0] - 1\n",
    "row = c.shape[0]\n",
    "col = c.shape[1]\n",
    "b[n] = b[n] / c[n][n]\n",
    "n -= 1\n",
    "while n >= 0:\n",
    "    t_sum = 0\n",
    "    i = n\n",
    "    j = i + 1\n",
    "    while j < col:\n",
    "        t_sum += c[i][j] * b[j]\n",
    "        j += 1\n",
    "    b[n] = (b[n] - t_sum) / c[n][n]\n",
    "    n -= 1\n",
    "print(b)"
   ]
  },
  {
   "cell_type": "markdown",
   "metadata": {},
   "source": [
    "# 将高斯消元法的回代过程封装为函数"
   ]
  },
  {
   "cell_type": "code",
   "execution_count": 63,
   "metadata": {},
   "outputs": [],
   "source": [
    "def gauss_back(c: numpy.ndarray, b: numpy.ndarray) -> numpy.ndarray:\n",
    "    \"\"\"高斯消元法的回代过程\n",
    "    Args:\n",
    "        :param - c：系数矩阵\n",
    "        :param - b：常数矩阵\n",
    "    Returns:\n",
    "        numpy.ndarray - 计算结果\n",
    "    \"\"\"\n",
    "    # 深拷贝，避免对形参的影响\n",
    "    c1 = copy.deepcopy(c)\n",
    "    b1 = copy.deepcopy(b)\n",
    "\n",
    "    col = c1.shape[1]\n",
    "    n = c1.shape[0] - 1\n",
    "    b1[n] = b1[n] / c1[n][n]\n",
    "    n -= 1\n",
    "    while n >= 0:\n",
    "        t_sum = 0\n",
    "        i = n\n",
    "        j = i + 1\n",
    "        while j < col:\n",
    "            t_sum += c1[i][j] * b1[j]\n",
    "            j += 1\n",
    "        b1[n] = (b1[n] - t_sum) / c1[n][n]\n",
    "        n -= 1\n",
    "    return b1"
   ]
  },
  {
   "cell_type": "code",
   "execution_count": 66,
   "metadata": {},
   "outputs": [
    {
     "name": "stdout",
     "output_type": "stream",
     "text": [
      "[[  2.   2.   3.   4.]\n",
      " [  0.   2.   6.  12.]\n",
      " [  0.   0.   6.  31.]\n",
      " [  0.   0.   0. -34.]]\n",
      "[[  1.]\n",
      " [  0.]\n",
      " [  1.]\n",
      " [-34.]]\n",
      "[[-3.]\n",
      " [ 9.]\n",
      " [-5.]\n",
      " [ 1.]]\n"
     ]
    }
   ],
   "source": [
    "t5 = copy.deepcopy(t4)\n",
    "print(t5[\"U\"].T[0:4][:].T)\n",
    "print(t5[\"U\"].T[4].reshape((4, 1)))\n",
    "print(gauss_back(t5[\"U\"].T[0:4][:].T, t5[\"U\"].T[4].reshape((4, 1))))"
   ]
  },
  {
   "cell_type": "code",
   "execution_count": 69,
   "metadata": {},
   "outputs": [
    {
     "name": "stdout",
     "output_type": "stream",
     "text": [
      "[[ 1.  1. -1.]\n",
      " [ 0.  1. -1.]\n",
      " [ 0.  0.  2.]]\n",
      "[[ 1.]\n",
      " [-1.]\n",
      " [ 5.]]\n",
      "[[2. ]\n",
      " [1.5]\n",
      " [2.5]]\n"
     ]
    }
   ],
   "source": [
    "t6 = LUDecompose(numpy.array([[1, 1, -1, 1], [1, 2, -2, 0], [-2, 1, 1, 0]], dtype=float))\n",
    "print(t6[\"U\"].T[0:3][:].T)\n",
    "print(t6[\"U\"].T[3].reshape((3, 1)))\n",
    "print(gauss_back(t6[\"U\"].T[0:3][:].T, t6[\"U\"].T[3].reshape((3, 1))))"
   ]
  },
  {
   "cell_type": "code",
   "execution_count": 71,
   "metadata": {},
   "outputs": [
    {
     "name": "stdout",
     "output_type": "stream",
     "text": [
      "[[ 1.  1. -1.]\n",
      " [ 0.  1. -1.]\n",
      " [ 0.  0.  2.]]\n",
      "[[ 0.]\n",
      " [ 1.]\n",
      " [-3.]]\n",
      "[[-1. ]\n",
      " [-0.5]\n",
      " [-1.5]]\n"
     ]
    }
   ],
   "source": [
    "t7 = LUDecompose(numpy.array([[1, 1, -1, 0], [1, 2, -2, 1], [-2, 1, 1, 0]], dtype=float))\n",
    "print(t7[\"U\"].T[0:3][:].T)\n",
    "print(t7[\"U\"].T[3].reshape((3, 1)))\n",
    "print(gauss_back(t7[\"U\"].T[0:3][:].T, t7[\"U\"].T[3].reshape((3, 1))))"
   ]
  },
  {
   "cell_type": "code",
   "execution_count": 72,
   "metadata": {},
   "outputs": [
    {
     "name": "stdout",
     "output_type": "stream",
     "text": [
      "[[ 1.  1. -1.]\n",
      " [ 0.  1. -1.]\n",
      " [ 0.  0.  2.]]\n",
      "[[0.]\n",
      " [0.]\n",
      " [1.]]\n",
      "[[0. ]\n",
      " [0.5]\n",
      " [0.5]]\n"
     ]
    }
   ],
   "source": [
    "t8 = LUDecompose(numpy.array([[1, 1, -1, 0], [1, 2, -2, 0], [-2, 1, 1, 1]], dtype=float))\n",
    "print(t8[\"U\"].T[0:3][:].T)\n",
    "print(t8[\"U\"].T[3].reshape((3, 1)))\n",
    "print(gauss_back(t8[\"U\"].T[0:3][:].T, t8[\"U\"].T[3].reshape((3, 1))))"
   ]
  }
 ],
 "metadata": {
  "interpreter": {
   "hash": "89e710d72e4426905d90e21aa643745791abbcf87b6bdc24f05c022f86276e5e"
  },
  "kernelspec": {
   "display_name": "Python 3.9.12 ('py39_u')",
   "language": "python",
   "name": "python3"
  },
  "language_info": {
   "codemirror_mode": {
    "name": "ipython",
    "version": 3
   },
   "file_extension": ".py",
   "mimetype": "text/x-python",
   "name": "python",
   "nbconvert_exporter": "python",
   "pygments_lexer": "ipython3",
   "version": "3.9.12"
  },
  "orig_nbformat": 4
 },
 "nbformat": 4,
 "nbformat_minor": 2
}
