{
 "cells": [
  {
   "cell_type": "code",
   "execution_count": 1,
   "metadata": {},
   "outputs": [],
   "source": [
    "import numpy\r\n",
    "import sympy"
   ]
  },
  {
   "cell_type": "code",
   "execution_count": 2,
   "metadata": {},
   "outputs": [
    {
     "name": "stdout",
     "output_type": "stream",
     "text": [
      "1.3572088082974532\n",
      "1.3308609588014277\n",
      "1.325883774232348\n",
      "1.324939363401885\n",
      "1.3247600112927027\n",
      "1.3247259452268871\n",
      "1.324719474534364\n",
      "1.3247182454489357\n",
      "1.324718011988197\n",
      "1.3247179676430874\n"
     ]
    }
   ],
   "source": [
    "# 简单迭代法\r\n",
    "x0 = 1.5\r\n",
    "poly_1 = numpy.poly1d([1, 1], r=False, variable=\"x\")\r\n",
    "for _ in range(10):\r\n",
    "    x1 = numpy.power(poly_1(x0), 1/3)\r\n",
    "    print(x1)\r\n",
    "    if x1 != x0:\r\n",
    "        x0 = x1\r\n",
    "    else:\r\n",
    "        break"
   ]
  },
  {
   "cell_type": "code",
   "execution_count": 3,
   "metadata": {},
   "outputs": [],
   "source": [
    "# 符号常量\r\n",
    "x = sympy.symbols(\"x\")"
   ]
  },
  {
   "cell_type": "code",
   "execution_count": 8,
   "metadata": {},
   "outputs": [
    {
     "name": "stdout",
     "output_type": "stream",
     "text": [
      "迭代了  1  次\n",
      "满足精度的值是： 1.32471795724475\n"
     ]
    }
   ],
   "source": [
    "# 牛顿迭代法求根\r\n",
    "f = x ** 3 - x - 1\r\n",
    "kexi = 0.00000001\r\n",
    "N = 10\r\n",
    "k = 0\r\n",
    "while k < N:\r\n",
    "    df = sympy.diff(f, x)\r\n",
    "    if df.evalf(subs={x:x0}) == 0:\r\n",
    "        print(\"导数为 0\")\r\n",
    "        break\r\n",
    "    else:\r\n",
    "        x1 = x0 - f.evalf(subs={x:x0}) / df.evalf(subs={x:x0})\r\n",
    "        if abs(x1-x0) < kexi:\r\n",
    "            print(\"迭代了 \", k, \" 次\")\r\n",
    "            print(\"满足精度的值是：\", x1)\r\n",
    "            break\r\n",
    "        else:\r\n",
    "            k += 1\r\n",
    "            x0 = x1\r\n",
    "if k >= N:\r\n",
    "    print(\"在 \", N, \" 次迭代内没有得到满足要求的值\")"
   ]
  }
 ],
 "metadata": {
  "kernelspec": {
   "display_name": "Python 3.9.12 64-bit ('py39_u': conda)",
   "metadata": {
    "interpreter": {
     "hash": "39004fee83d816cfe846a4eb3dea6a0bbe4a7429bc29dc1ef9e7d6e0bd3fbf09"
    }
   },
   "name": "python3"
  },
  "language_info": {
   "codemirror_mode": {
    "name": "ipython",
    "version": 3
   },
   "file_extension": ".py",
   "mimetype": "text/x-python",
   "name": "python",
   "nbconvert_exporter": "python",
   "pygments_lexer": "ipython3",
   "version": "3.9.12"
  },
  "orig_nbformat": 2
 },
 "nbformat": 4,
 "nbformat_minor": 2
}