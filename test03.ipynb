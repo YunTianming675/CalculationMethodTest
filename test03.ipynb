{
 "cells": [
  {
   "cell_type": "code",
   "execution_count": 1,
   "metadata": {},
   "outputs": [],
   "source": [
    "import numpy\r\n",
    "import sympy"
   ]
  },
  {
   "cell_type": "code",
   "execution_count": 2,
   "metadata": {},
   "outputs": [
    {
     "name": "stdout",
     "output_type": "stream",
     "text": [
      "1.3572088082974532\n",
      "1.3308609588014277\n",
      "1.325883774232348\n",
      "1.324939363401885\n",
      "1.3247600112927027\n",
      "1.3247259452268871\n",
      "1.324719474534364\n",
      "1.3247182454489357\n",
      "1.324718011988197\n",
      "1.3247179676430874\n"
     ]
    }
   ],
   "source": [
    "# 简单迭代法\r\n",
    "x0 = 1.5\r\n",
    "poly_1 = numpy.poly1d([1, 1], r=False, variable=\"x\")\r\n",
    "for _ in range(10):\r\n",
    "    x1 = numpy.power(poly_1(x0), 1/3)\r\n",
    "    print(x1)\r\n",
    "    if x1 != x0:\r\n",
    "        x0 = x1\r\n",
    "    else:\r\n",
    "        break"
   ]
  },
  {
   "cell_type": "code",
   "execution_count": 3,
   "metadata": {},
   "outputs": [],
   "source": [
    "# 符号常量\r\n",
    "x = sympy.symbols(\"x\")"
   ]
  },
  {
   "cell_type": "code",
   "execution_count": 4,
   "metadata": {},
   "outputs": [
    {
     "name": "stdout",
     "output_type": "stream",
     "text": [
      "迭代了  1  次\n",
      "满足精度的值是： 1.32471795724475\n"
     ]
    }
   ],
   "source": [
    "# 牛顿迭代法求根\r\n",
    "f = x ** 3 - x - 1\r\n",
    "kexi = 0.00000001\r\n",
    "N = 10\r\n",
    "k = 0\r\n",
    "while k < N:\r\n",
    "    df = sympy.diff(f, x)\r\n",
    "    if df.evalf(subs={x:x0}) == 0:\r\n",
    "        print(\"导数为 0\")\r\n",
    "        break\r\n",
    "    else:\r\n",
    "        x1 = x0 - f.evalf(subs={x:x0}) / df.evalf(subs={x:x0})\r\n",
    "        if abs(x1-x0) < kexi:\r\n",
    "            print(\"迭代了 \", k, \" 次\")\r\n",
    "            print(\"满足精度的值是：\", x1)\r\n",
    "            break\r\n",
    "        else:\r\n",
    "            k += 1\r\n",
    "            x0 = x1\r\n",
    "if k >= N:\r\n",
    "    print(\"在 \", N, \" 次迭代内没有得到满足要求的值\")"
   ]
  },
  {
   "cell_type": "code",
   "execution_count": 5,
   "metadata": {},
   "outputs": [],
   "source": [
    "def newTonIteration(f: sympy.core.add.Add, kexi: float, N: int, x0: float) -> float:\r\n",
    "    \"\"\"牛顿迭代法\r\n",
    "    Args:\r\n",
    "        :param f - sympy符号多项式\r\n",
    "        :param kexi - 要求的精度\r\n",
    "        :param N - 最大迭代次数\r\n",
    "        :param x0 - 初始值\r\n",
    "    Return:\r\n",
    "        float - 求得的值，当导数为 0 或迭代超过 N 次时返回 NaN\r\n",
    "    \"\"\"\r\n",
    "    k = 0\r\n",
    "    while k < N:\r\n",
    "        df = sympy.diff(f, x)\r\n",
    "        if df.evalf(subs={x:x0}) == 0:\r\n",
    "            return numpy.NaN\r\n",
    "        else:\r\n",
    "            x1 = x0 - f.evalf(subs={x:x0}) / df.evalf(subs={x:x0})\r\n",
    "            if abs(x1-x0) < kexi:\r\n",
    "                return x1\r\n",
    "            else:\r\n",
    "                k += 1\r\n",
    "                x0 = x1\r\n",
    "    if k >= N:\r\n",
    "        return numpy.NaN"
   ]
  },
  {
   "cell_type": "code",
   "execution_count": 6,
   "metadata": {},
   "outputs": [
    {
     "data": {
      "text/latex": "$\\displaystyle 1.32471795724475$",
      "text/plain": "1.32471795724475"
     },
     "execution_count": 6,
     "metadata": {},
     "output_type": "execute_result"
    }
   ],
   "source": [
    "f = x ** 3 - x - 1\r\n",
    "kexi = 0.00000001\r\n",
    "N = 10\r\n",
    "k = 0\r\n",
    "newTonIteration(f, kexi, N, x0)"
   ]
  },
  {
   "cell_type": "code",
   "execution_count": 7,
   "metadata": {},
   "outputs": [
    {
     "name": "stdout",
     "output_type": "stream",
     "text": [
      "[[101.           4.65700951]\n",
      " [102.           4.67232873]\n",
      " [103.           4.68754815]\n",
      " [104.           4.70266938]\n",
      " [105.           4.71769398]\n",
      " [106.           4.73262349]\n",
      " [107.           4.7474594 ]\n",
      " [108.           4.76220316]\n",
      " [109.           4.77685618]\n",
      " [110.           4.79141986]\n",
      " [111.           4.80589553]]\n"
     ]
    }
   ],
   "source": [
    "arr1 = numpy.zeros((11, 2))\r\n",
    "for i in range(101, 112):\r\n",
    "    f1 = x ** 3 - i\r\n",
    "    arr1[i-101][0] = i\r\n",
    "    arr1[i-101][1] = newTonIteration(f1, kexi, 10, 10)\r\n",
    "print(arr1)"
   ]
  },
  {
   "cell_type": "code",
   "execution_count": 8,
   "metadata": {},
   "outputs": [],
   "source": [
    "def newTonIterationSimplify(f: sympy.core.add.Add, kexi: float, N: int, x0: float) -> float:\r\n",
    "    \"\"\"简化牛顿迭代法\r\n",
    "    Args:\r\n",
    "        :param f - sympy符号多项式\r\n",
    "        :param kexi - 要求的精度\r\n",
    "        :param N - 最大迭代次数\r\n",
    "        :param x0 - 初始值\r\n",
    "        :param x - 一常量\r\n",
    "    Return:\r\n",
    "        float - 求得的值，当导数为 0 或迭代超过 N 次时返回 NaN\r\n",
    "    \"\"\"\r\n",
    "    k = 0\r\n",
    "    while k < N:\r\n",
    "        df = sympy.diff(f, x)\r\n",
    "        c = df.evalf(subs={x:x0})\r\n",
    "        if df.evalf(subs={x:x0}) == 0:\r\n",
    "            return numpy.NaN\r\n",
    "        else:\r\n",
    "            x1 = x0 - f.evalf(subs={x:x0}) / c\r\n",
    "            if abs(x1-x0) < kexi:\r\n",
    "                return x1\r\n",
    "            else:\r\n",
    "                k += 1\r\n",
    "                x0 = x1\r\n",
    "    if k >= N:\r\n",
    "        return numpy.NaN"
   ]
  },
  {
   "cell_type": "code",
   "execution_count": 9,
   "metadata": {},
   "outputs": [
    {
     "name": "stdout",
     "output_type": "stream",
     "text": [
      "[[101.           4.65700951]\n",
      " [102.           4.67232873]\n",
      " [103.           4.68754815]\n",
      " [104.           4.70266938]\n",
      " [105.           4.71769398]\n",
      " [106.           4.73262349]\n",
      " [107.           4.7474594 ]\n",
      " [108.           4.76220316]\n",
      " [109.           4.77685618]\n",
      " [110.           4.79141986]\n",
      " [111.           4.80589553]]\n"
     ]
    }
   ],
   "source": [
    "arr2 = numpy.zeros((11, 2))\r\n",
    "for i in range(101, 112):\r\n",
    "    f1 = x ** 3 - i\r\n",
    "    arr2[i-101][0] = i\r\n",
    "    arr2[i-101][1] = newTonIterationSimplify(f1, kexi, 10, 10)\r\n",
    "print(arr2)"
   ]
  },
  {
   "cell_type": "code",
   "execution_count": 12,
   "metadata": {},
   "outputs": [
    {
     "name": "stdout",
     "output_type": "stream",
     "text": [
      "下山成功\n",
      "1.32471795724475\n"
     ]
    }
   ],
   "source": [
    "# 牛顿下山法\r\n",
    "f = x ** 3 - x - 1\r\n",
    "x0 = 1.5\r\n",
    "kexi = 0.000000001\r\n",
    "lamda = 0.9\r\n",
    "while lamda > kexi:\r\n",
    "    df = sympy.diff(f, x)\r\n",
    "    x1 = x0 - lamda * f.evalf(subs={x:x0}) / df.evalf(subs={x:x0})\r\n",
    "    if abs(f.evalf(subs={x:x1})) < abs(f.evalf(subs={x:x0})):\r\n",
    "        print(\"下山成功\")\r\n",
    "        print(newTonIteration(f, kexi, 10, x1))\r\n",
    "        break\r\n",
    "    else:\r\n",
    "        lamda = lamda / 2\r\n",
    "        x0 += 0.1"
   ]
  }
 ],
 "metadata": {
  "kernelspec": {
   "display_name": "Python 3.9.12 64-bit ('py39_u': conda)",
   "metadata": {
    "interpreter": {
     "hash": "39004fee83d816cfe846a4eb3dea6a0bbe4a7429bc29dc1ef9e7d6e0bd3fbf09"
    }
   },
   "name": "python3"
  },
  "language_info": {
   "codemirror_mode": {
    "name": "ipython",
    "version": 3
   },
   "file_extension": ".py",
   "mimetype": "text/x-python",
   "name": "python",
   "nbconvert_exporter": "python",
   "pygments_lexer": "ipython3",
   "version": "3.9.12"
  },
  "orig_nbformat": 2
 },
 "nbformat": 4,
 "nbformat_minor": 2
}