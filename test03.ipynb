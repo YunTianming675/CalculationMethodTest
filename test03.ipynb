{
 "cells": [
  {
   "cell_type": "code",
   "execution_count": 1,
   "metadata": {},
   "outputs": [],
   "source": [
    "import numpy\n",
    "import sympy"
   ]
  },
  {
   "cell_type": "code",
   "execution_count": 2,
   "metadata": {},
   "outputs": [
    {
     "name": "stdout",
     "output_type": "stream",
     "text": [
      "1.3572088082974532\n",
      "1.3308609588014277\n",
      "1.325883774232348\n",
      "1.324939363401885\n",
      "1.3247600112927027\n",
      "1.3247259452268871\n",
      "1.324719474534364\n",
      "1.3247182454489357\n",
      "1.324718011988197\n",
      "1.3247179676430874\n"
     ]
    }
   ],
   "source": [
    "# 简单迭代法\n",
    "x0 = 1.5\n",
    "poly_1 = numpy.poly1d([1, 1], r=False, variable=\"x\")\n",
    "for _ in range(10):\n",
    "    x1 = numpy.power(poly_1(x0), 1/3)\n",
    "    print(x1)\n",
    "    if x1 != x0:\n",
    "        x0 = x1\n",
    "    else:\n",
    "        break"
   ]
  },
  {
   "cell_type": "code",
   "execution_count": 3,
   "metadata": {},
   "outputs": [],
   "source": [
    "# 符号常量\n",
    "x = sympy.symbols(\"x\")"
   ]
  },
  {
   "cell_type": "code",
   "execution_count": 4,
   "metadata": {},
   "outputs": [
    {
     "name": "stdout",
     "output_type": "stream",
     "text": [
      "迭代了  1  次\n",
      "满足精度的值是： 1.32471795724475\n"
     ]
    }
   ],
   "source": [
    "# 牛顿迭代法求根\n",
    "f = x ** 3 - x - 1\n",
    "kexi = 0.00000001\n",
    "N = 10\n",
    "k = 0\n",
    "while k < N:\n",
    "    df = sympy.diff(f, x)\n",
    "    if df.evalf(subs={x:x0}) == 0:\n",
    "        print(\"导数为 0\")\n",
    "        break\n",
    "    else:\n",
    "        x1 = x0 - f.evalf(subs={x:x0}) / df.evalf(subs={x:x0})\n",
    "        if abs(x1-x0) < kexi:\n",
    "            print(\"迭代了 \", k, \" 次\")\n",
    "            print(\"满足精度的值是：\", x1)\n",
    "            break\n",
    "        else:\n",
    "            k += 1\n",
    "            x0 = x1\n",
    "if k >= N:\n",
    "    print(\"在 \", N, \" 次迭代内没有得到满足要求的值\")"
   ]
  },
  {
   "cell_type": "code",
   "execution_count": 5,
   "metadata": {},
   "outputs": [],
   "source": [
    "def newTonIteration(f: sympy.core.add.Add, kexi: float, N: int, x0: float) -> float:\n",
    "    \"\"\"牛顿迭代法\n",
    "    Args:\n",
    "        :param f - sympy符号多项式\n",
    "        :param kexi - 要求的精度\n",
    "        :param N - 最大迭代次数\n",
    "        :param x0 - 初始值\n",
    "    Return:\n",
    "        float - 求得的值，当导数为 0 或迭代超过 N 次时返回 NaN\n",
    "    \"\"\"\n",
    "    k = 0\n",
    "    while k < N:\n",
    "        df = sympy.diff(f, x)\n",
    "        if df.evalf(subs={x:x0}) == 0:\n",
    "            return numpy.NaN\n",
    "        else:\n",
    "            x1 = x0 - f.evalf(subs={x:x0}) / df.evalf(subs={x:x0})\n",
    "            if abs(x1-x0) < kexi:\n",
    "                return x1\n",
    "            else:\n",
    "                k += 1\n",
    "                x0 = x1\n",
    "    if k >= N:\n",
    "        return numpy.NaN"
   ]
  },
  {
   "cell_type": "code",
   "execution_count": 6,
   "metadata": {},
   "outputs": [
    {
     "data": {
      "text/latex": [
       "$\\displaystyle 1.32471795724475$"
      ],
      "text/plain": [
       "1.32471795724475"
      ]
     },
     "execution_count": 6,
     "metadata": {},
     "output_type": "execute_result"
    }
   ],
   "source": [
    "f = x ** 3 - x - 1\n",
    "kexi = 0.00000001\n",
    "N = 10\n",
    "k = 0\n",
    "newTonIteration(f, kexi, N, x0)"
   ]
  },
  {
   "cell_type": "code",
   "execution_count": 7,
   "metadata": {},
   "outputs": [
    {
     "name": "stdout",
     "output_type": "stream",
     "text": [
      "[[101.           4.65700951]\n",
      " [102.           4.67232873]\n",
      " [103.           4.68754815]\n",
      " [104.           4.70266938]\n",
      " [105.           4.71769398]\n",
      " [106.           4.73262349]\n",
      " [107.           4.7474594 ]\n",
      " [108.           4.76220316]\n",
      " [109.           4.77685618]\n",
      " [110.           4.79141986]\n",
      " [111.           4.80589553]]\n"
     ]
    }
   ],
   "source": [
    "arr1 = numpy.zeros((11, 2))\n",
    "for i in range(101, 112):\n",
    "    f1 = x ** 3 - i\n",
    "    arr1[i-101][0] = i\n",
    "    arr1[i-101][1] = newTonIteration(f1, kexi, 10, 10)\n",
    "print(arr1)"
   ]
  },
  {
   "cell_type": "code",
   "execution_count": 8,
   "metadata": {},
   "outputs": [],
   "source": [
    "def newTonIterationSimplify(f: sympy.core.add.Add, kexi: float, N: int, x0: float) -> float:\n",
    "    \"\"\"简化牛顿迭代法\n",
    "    Args:\n",
    "        :param f - sympy符号多项式\n",
    "        :param kexi - 要求的精度\n",
    "        :param N - 最大迭代次数\n",
    "        :param x0 - 初始值\n",
    "        :param x - 一常量\n",
    "    Return:\n",
    "        float - 求得的值，当导数为 0 或迭代超过 N 次时返回 NaN\n",
    "    \"\"\"\n",
    "    k = 0\n",
    "    while k < N:\n",
    "        df = sympy.diff(f, x)\n",
    "        c = df.evalf(subs={x:x0})\n",
    "        if df.evalf(subs={x:x0}) == 0:\n",
    "            return numpy.NaN\n",
    "        else:\n",
    "            x1 = x0 - f.evalf(subs={x:x0}) / c\n",
    "            if abs(x1-x0) < kexi:\n",
    "                return x1\n",
    "            else:\n",
    "                k += 1\n",
    "                x0 = x1\n",
    "    if k >= N:\n",
    "        return numpy.NaN"
   ]
  },
  {
   "cell_type": "code",
   "execution_count": 9,
   "metadata": {},
   "outputs": [
    {
     "name": "stdout",
     "output_type": "stream",
     "text": [
      "[[101.           4.65700951]\n",
      " [102.           4.67232873]\n",
      " [103.           4.68754815]\n",
      " [104.           4.70266938]\n",
      " [105.           4.71769398]\n",
      " [106.           4.73262349]\n",
      " [107.           4.7474594 ]\n",
      " [108.           4.76220316]\n",
      " [109.           4.77685618]\n",
      " [110.           4.79141986]\n",
      " [111.           4.80589553]]\n"
     ]
    }
   ],
   "source": [
    "arr2 = numpy.zeros((11, 2))\n",
    "for i in range(101, 112):\n",
    "    f1 = x ** 3 - i\n",
    "    arr2[i-101][0] = i\n",
    "    arr2[i-101][1] = newTonIterationSimplify(f1, kexi, 10, 10)\n",
    "print(arr2)"
   ]
  },
  {
   "cell_type": "code",
   "execution_count": 12,
   "metadata": {},
   "outputs": [
    {
     "name": "stdout",
     "output_type": "stream",
     "text": [
      "下山成功\n",
      "1.32471795724475\n"
     ]
    }
   ],
   "source": [
    "# 牛顿下山法\n",
    "f = x ** 3 - x - 1\n",
    "x0 = 1.5\n",
    "kexi = 0.000000001\n",
    "lamda = 0.9\n",
    "while lamda > kexi:\n",
    "    df = sympy.diff(f, x)\n",
    "    x1 = x0 - lamda * f.evalf(subs={x:x0}) / df.evalf(subs={x:x0})\n",
    "    if abs(f.evalf(subs={x:x1})) < abs(f.evalf(subs={x:x0})):\n",
    "        print(\"下山成功\")\n",
    "        print(newTonIteration(f, kexi, 10, x1))\n",
    "        break\n",
    "    else:\n",
    "        lamda = lamda / 2\n",
    "        x0 += 0.1"
   ]
  }
 ],
 "metadata": {
  "interpreter": {
   "hash": "89e710d72e4426905d90e21aa643745791abbcf87b6bdc24f05c022f86276e5e"
  },
  "kernelspec": {
   "display_name": "Python 3.9.12 64-bit ('py39_u': conda)",
   "language": "python",
   "name": "python3"
  },
  "language_info": {
   "codemirror_mode": {
    "name": "ipython",
    "version": 3
   },
   "file_extension": ".py",
   "mimetype": "text/x-python",
   "name": "python",
   "nbconvert_exporter": "python",
   "pygments_lexer": "ipython3",
   "version": "3.9.12-final"
  },
  "orig_nbformat": 2
 },
 "nbformat": 4,
 "nbformat_minor": 2
}
