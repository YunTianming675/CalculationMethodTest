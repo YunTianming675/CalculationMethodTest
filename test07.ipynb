{
 "cells": [
  {
   "cell_type": "code",
   "execution_count": 24,
   "metadata": {},
   "outputs": [],
   "source": [
    "import numpy\n",
    "import matplotlib.pyplot as plt\n",
    "import scipy.interpolate as spi\n",
    "import sympy\n",
    "import util"
   ]
  },
  {
   "cell_type": "code",
   "execution_count": 2,
   "metadata": {},
   "outputs": [],
   "source": [
    "x1 = [0, 3, 5, 7, 9, 11, 12, 13, 14, 15]\n",
    "y1 = [0, 1.2, 1.7, 2.0, 2.1, 2.0, 1.8, 1.2, 1.4, 1.6]"
   ]
  },
  {
   "cell_type": "code",
   "execution_count": 3,
   "metadata": {},
   "outputs": [
    {
     "data": {
      "text/plain": [
       "[<matplotlib.lines.Line2D at 0x1a96e4bc3d0>]"
      ]
     },
     "execution_count": 3,
     "metadata": {},
     "output_type": "execute_result"
    },
    {
     "data": {
      "image/png": "[encoded data removed]",
      "text/plain": [
       "<Figure size 432x288 with 1 Axes>"
      ]
     },
     "metadata": {
      "needs_background": "light"
     },
     "output_type": "display_data"
    }
   ],
   "source": [
    "plt.plot(x1, y1)"
   ]
  },
  {
   "cell_type": "code",
   "execution_count": 15,
   "metadata": {},
   "outputs": [
    {
     "name": "stdout",
     "output_type": "stream",
     "text": [
      "-3.45491974956261e-6*x**9 + 0.000262112226397941*x**8 - 0.00847821304852558*x**7 + 0.152289374398749*x**6 - 1.65596508381665*x**5 + 11.1166836693399*x**4 - 44.7651620768863*x**3 + 98.2043579176278*x**2 - 88.7201747211122*x\n"
     ]
    }
   ],
   "source": [
    "# 拉格朗日插值\n",
    "diff1 = util.lagrange_interpolation(x1, y1)\n",
    "print(diff1)"
   ]
  },
  {
   "cell_type": "code",
   "execution_count": 14,
   "metadata": {},
   "outputs": [
    {
     "name": "stdout",
     "output_type": "stream",
     "text": [
      "(2, 30)\n"
     ]
    }
   ],
   "source": [
    "# 获得x每增加0.5时y的值\n",
    "x = sympy.symbols(\"x\")\n",
    "value1 = numpy.zeros((2, int(numpy.ceil(((max(x1) - min(x1)) / 0.5)))))\n",
    "print(value1.shape)"
   ]
  },
  {
   "cell_type": "code",
   "execution_count": 16,
   "metadata": {},
   "outputs": [
    {
     "name": "stdout",
     "output_type": "stream",
     "text": [
      "[[  0.           0.5          1.           1.5          2.\n",
      "    2.5          3.           3.5          4.           4.5\n",
      "    5.           5.5          6.           6.5          7.\n",
      "    7.5          8.           8.5          9.           9.5\n",
      "   10.          10.5         11.          11.5         12.\n",
      "   12.5         13.          13.5         14.          14.5       ]\n",
      " [  0.         -24.75928502 -25.67619048 -17.90325479  -9.14151786\n",
      "   -2.55663714   1.2          2.66011508   2.72376374   2.21642216\n",
      "    1.7          1.44398704   1.48463412   1.71931354   2.\n",
      "    2.20416036   2.27323926   2.2183773    2.1          1.99246799\n",
      "    1.94708312   1.96640012   2.           1.96663956   1.8\n",
      "    1.50511876   1.2          1.10186276   1.4          1.93728763]]\n"
     ]
    }
   ],
   "source": [
    "x2 = 0\n",
    "for i in range(value1.shape[1]):\n",
    "    value1[0][i] = x2\n",
    "    value1[1][i] = diff1.evalf(subs={x:x2})\n",
    "    x2 = x2 + 0.5\n",
    "print(value1)"
   ]
  },
  {
   "cell_type": "code",
   "execution_count": 17,
   "metadata": {},
   "outputs": [
    {
     "data": {
      "text/plain": [
       "[<matplotlib.lines.Line2D at 0x1a97226d490>]"
      ]
     },
     "execution_count": 17,
     "metadata": {},
     "output_type": "execute_result"
    },
    {
     "data": {
      "image/png": "[encoded data removed]",
      "text/plain": [
       "<Figure size 432x288 with 1 Axes>"
      ]
     },
     "metadata": {
      "needs_background": "light"
     },
     "output_type": "display_data"
    }
   ],
   "source": [
    "plt.plot(value1[0], value1[1])"
   ]
  },
  {
   "cell_type": "code",
   "execution_count": 20,
   "metadata": {},
   "outputs": [
    {
     "name": "stdout",
     "output_type": "stream",
     "text": [
      "7.21500721500716e-6*x**5 - 0.000252525252525251*x**4 + 0.00339105339105338*x**3 - 0.0467171717171717*x**2 + 0.515865800865801*x\n"
     ]
    }
   ],
   "source": [
    "# 牛顿插值\n",
    "diff2 = util.get_diff_quotient(5, x1, y1)\n",
    "# 牛顿插值多项式\n",
    "ploy1 = diff2[0][0] + diff2[1][1] * (x - x1[0]) +\\\n",
    "        diff2[2][2] * (x - x1[0]) * (x - x1[1]) +\\\n",
    "        diff2[3][3] * (x - x1[0]) * (x - x1[1]) * (x - x1[2]) +\\\n",
    "        diff2[4][4] * (x - x1[0]) * (x - x1[1]) * (x - x1[2]) * (x - x1[3]) +\\\n",
    "        diff2[5][5] * (x - x1[0]) * (x - x1[1]) * (x - x1[2]) * (x - x1[3]) * (x - x1[4])\n",
    "ploy1 = sympy.expand(ploy1)\n",
    "print(ploy1)"
   ]
  },
  {
   "cell_type": "code",
   "execution_count": 22,
   "metadata": {},
   "outputs": [
    {
     "name": "stdout",
     "output_type": "stream",
     "text": [
      "[[ 0.          0.5         1.          1.5         2.          2.5\n",
      "   3.          3.5         4.          4.5         5.          5.5\n",
      "   6.          6.5         7.          7.5         8.          8.5\n",
      "   9.          9.5        10.         10.5        11.         11.5\n",
      "  12.         12.5        13.         13.5        14.         14.5       ]\n",
      " [ 0.          0.24666193  0.47229437  0.67890625  0.86818182  1.04150771\n",
      "   1.2         1.34453125  1.47575758  1.5941457   1.7         1.79348958\n",
      "   1.87467532  1.94353693  2.          2.04396307  2.07532468  2.09401042\n",
      "   2.1         2.0933543   2.07424242  2.04296875  2.          1.94599229\n",
      "   1.88181818  1.80859375  1.72770563  1.64083807  1.55        1.45755208]]\n"
     ]
    }
   ],
   "source": [
    "# 获得x每增加0.5时y的值\n",
    "value2 = numpy.zeros((2, int(numpy.ceil(((max(x1) - min(x1)) / 0.5)))))\n",
    "x2 = 0\n",
    "for i in range(value2.shape[1]):\n",
    "    value2[0][i] = x2\n",
    "    value2[1][i] = ploy1.evalf(subs={x:x2})\n",
    "    x2 = x2 + 0.5\n",
    "print(value2)"
   ]
  },
  {
   "cell_type": "code",
   "execution_count": 23,
   "metadata": {},
   "outputs": [
    {
     "data": {
      "text/plain": [
       "[<matplotlib.lines.Line2D at 0x1a97307f640>]"
      ]
     },
     "execution_count": 23,
     "metadata": {},
     "output_type": "execute_result"
    },
    {
     "data": {
      "image/png": "[encoded data removed]",
      "text/plain": [
       "<Figure size 432x288 with 1 Axes>"
      ]
     },
     "metadata": {
      "needs_background": "light"
     },
     "output_type": "display_data"
    }
   ],
   "source": [
    "plt.plot(value2[0], value2[1])"
   ]
  },
  {
   "cell_type": "code",
   "execution_count": 26,
   "metadata": {},
   "outputs": [
    {
     "data": {
      "text/plain": [
       "[<matplotlib.lines.Line2D at 0x1a97f7ca6d0>]"
      ]
     },
     "execution_count": 26,
     "metadata": {},
     "output_type": "execute_result"
    },
    {
     "data": {
      "image/png": "[encoded data removed]",
      "text/plain": [
       "<Figure size 432x288 with 1 Axes>"
      ]
     },
     "metadata": {
      "needs_background": "light"
     },
     "output_type": "display_data"
    }
   ],
   "source": [
    "# 三次样条插值\n",
    "ipo = spi.splrep(x1, y1, k=3)\n",
    "iy = spi.splev(x1, ipo)\n",
    "plt.plot(x1, iy)"
   ]
  }
 ],
 "metadata": {
  "interpreter": {
   "hash": "89e710d72e4426905d90e21aa643745791abbcf87b6bdc24f05c022f86276e5e"
  },
  "kernelspec": {
   "display_name": "Python 3.9.12 ('py39_u')",
   "language": "python",
   "name": "python3"
  },
  "language_info": {
   "codemirror_mode": {
    "name": "ipython",
    "version": 3
   },
   "file_extension": ".py",
   "mimetype": "text/x-python",
   "name": "python",
   "nbconvert_exporter": "python",
   "pygments_lexer": "ipython3",
   "version": "3.9.12"
  },
  "orig_nbformat": 4
 },
 "nbformat": 4,
 "nbformat_minor": 2
}
