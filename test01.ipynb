{
 "cells": [
  {
   "cell_type": "code",
   "execution_count": 1,
   "metadata": {},
   "outputs": [],
   "source": [
    "import numpy"
   ]
  },
  {
   "cell_type": "code",
   "execution_count": 2,
   "metadata": {},
   "outputs": [],
   "source": [
    "def qjs_algorithm(coeff: list, x: float) -> float:\n",
    "    \"\"\"\n",
    "    Args:\n",
    "        :param coeff：系数列表\n",
    "        :param x：要求值的点\n",
    "    Returns:\n",
    "        :result -> float：求得的值\n",
    "    \"\"\"\n",
    "    result = 0.0\n",
    "    for i in range(len(coeff)):\n",
    "        result = (x * result) + coeff[i]\n",
    "    return result"
   ]
  },
  {
   "cell_type": "code",
   "execution_count": 3,
   "metadata": {},
   "outputs": [
    {
     "name": "stdout",
     "output_type": "stream",
     "text": [
      "9.40351\n",
      "11.272319999999999\n",
      "13.703930000000001\n"
     ]
    }
   ],
   "source": [
    "coeff = [1, 0, 3, 0, -2, 6]\n",
    "print(qjs_algorithm(coeff, 1.1))\n",
    "print(qjs_algorithm(coeff, 1.2))\n",
    "print(qjs_algorithm(coeff, 1.3))"
   ]
  },
  {
   "cell_type": "code",
   "execution_count": 4,
   "metadata": {},
   "outputs": [
    {
     "name": "stdout",
     "output_type": "stream",
     "text": [
      "49.0\n",
      "235.0\n",
      "737.0\n"
     ]
    }
   ],
   "source": [
    "coeff = [3, -1, 2, 0, 1]\n",
    "print(qjs_algorithm(coeff, 2))\n",
    "print(qjs_algorithm(coeff, 3))\n",
    "print(qjs_algorithm(coeff, 4))"
   ]
  },
  {
   "cell_type": "markdown",
   "metadata": {},
   "source": [
    "# 以numpy库计算"
   ]
  },
  {
   "cell_type": "code",
   "execution_count": 5,
   "metadata": {},
   "outputs": [
    {
     "name": "stdout",
     "output_type": "stream",
     "text": [
      "9.40351\n",
      "11.272319999999999\n",
      "13.703930000000001\n"
     ]
    }
   ],
   "source": [
    "n_coeff = numpy.poly1d([1, 0, 3, 0, -2, 6], r=False, variable=[\"x\"])\n",
    "print(n_coeff(1.1))\n",
    "print(n_coeff(1.2))\n",
    "print(n_coeff(1.3))"
   ]
  },
  {
   "cell_type": "code",
   "execution_count": 6,
   "metadata": {},
   "outputs": [],
   "source": [
    "n_coeff = numpy.poly1d([3, -1, 2, 0, 1], r=False, variable=[\"x\"])"
   ]
  },
  {
   "cell_type": "code",
   "execution_count": 7,
   "metadata": {},
   "outputs": [
    {
     "name": "stdout",
     "output_type": "stream",
     "text": [
      "49\n",
      "235\n",
      "737\n"
     ]
    }
   ],
   "source": [
    "print(n_coeff(2))\n",
    "print(n_coeff(3))\n",
    "print(n_coeff(4))"
   ]
  }
 ],
 "metadata": {
  "interpreter": {
   "hash": "0e631b30946532b150db112ff3233764a4d3c4ea49bdc66bef079771afae3a3c"
  },
  "kernelspec": {
   "display_name": "Python 3.8.13 ('py38_cu101')",
   "language": "python",
   "name": "python3"
  },
  "language_info": {
   "codemirror_mode": {
    "name": "ipython",
    "version": 3
   },
   "file_extension": ".py",
   "mimetype": "text/x-python",
   "name": "python",
   "nbconvert_exporter": "python",
   "pygments_lexer": "ipython3",
   "version": "3.8.13"
  },
  "orig_nbformat": 4
 },
 "nbformat": 4,
 "nbformat_minor": 2
}
