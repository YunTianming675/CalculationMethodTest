{
 "cells": [
  {
   "cell_type": "code",
   "execution_count": 1,
   "metadata": {},
   "outputs": [],
   "source": [
    "import copy\n",
    "import numpy"
   ]
  },
  {
   "cell_type": "code",
   "execution_count": 2,
   "metadata": {},
   "outputs": [],
   "source": [
    "# coeff = numpy.array([[2, 1, 1], [1, 3, 2], [1, 2, 2]], dtype=float)\n",
    "# b = numpy.array([[4], [6], [5]], dtype=float)\n",
    "coeff = numpy.array([[4, 3, 1], [2, 1, 2], [6, 1, 5]], dtype=float)\n",
    "b = numpy.array([[11], [6], [13]], dtype=float)"
   ]
  },
  {
   "cell_type": "code",
   "execution_count": 3,
   "metadata": {},
   "outputs": [
    {
     "name": "stdout",
     "output_type": "stream",
     "text": [
      "(3, 3)\n",
      "(3, 1)\n"
     ]
    }
   ],
   "source": [
    "print(coeff.shape)\n",
    "print(b.shape)"
   ]
  },
  {
   "cell_type": "markdown",
   "metadata": {},
   "source": [
    "# 高斯消去法"
   ]
  },
  {
   "cell_type": "code",
   "execution_count": 4,
   "metadata": {},
   "outputs": [
    {
     "name": "stdout",
     "output_type": "stream",
     "text": [
      "[[ 4.   3.   1. ]\n",
      " [ 0.  -0.5  1.5]\n",
      " [ 0.   0.  -7. ]]\n",
      "[[11. ]\n",
      " [ 0.5]\n",
      " [-7. ]]\n"
     ]
    }
   ],
   "source": [
    "# 消元\n",
    "c = copy.deepcopy(coeff)\n",
    "b1 = copy.deepcopy(b)\n",
    "row = c.shape[0]\n",
    "col = c.shape[1]\n",
    "for k in range(row):\n",
    "    i = k + 1\n",
    "    while i < row:\n",
    "        m = c[i][k] / c[k][k]\n",
    "        c[i] = (-m * c[k]) + c[i]\n",
    "        b1[i] = (-m * b1[k]) + b1[i]\n",
    "        i += 1\n",
    "print(c)\n",
    "print(b1)"
   ]
  },
  {
   "cell_type": "code",
   "execution_count": 5,
   "metadata": {},
   "outputs": [
    {
     "name": "stdout",
     "output_type": "stream",
     "text": [
      "[[1.]\n",
      " [2.]\n",
      " [1.]]\n"
     ]
    }
   ],
   "source": [
    "# 回代\n",
    "n = c.shape[0] - 1\n",
    "row = c.shape[0]\n",
    "col = c.shape[1]\n",
    "b2 = copy.deepcopy(b1)\n",
    "b2[n] = b2[n] / c[n][n]\n",
    "n -= 1\n",
    "while n >= 0:\n",
    "    tsum = 0\n",
    "    i = n\n",
    "    j = i + 1\n",
    "    while j < col:\n",
    "        tsum += c[i][j] * b2[j]\n",
    "        j += 1\n",
    "    b2[n] = (b2[n] - tsum) / c[n][n]\n",
    "    n -= 1\n",
    "print(b2)"
   ]
  },
  {
   "cell_type": "markdown",
   "metadata": {},
   "source": [
    "# 列选主元高斯消去法"
   ]
  },
  {
   "cell_type": "code",
   "execution_count": 10,
   "metadata": {},
   "outputs": [
    {
     "name": "stdout",
     "output_type": "stream",
     "text": [
      "[[1. 3. 2.]\n",
      " [0. 1. 1.]\n",
      " [0. 0. 1.]]\n",
      "[[6.]\n",
      " [4.]\n",
      " [3.]]\n"
     ]
    }
   ],
   "source": [
    "coeff1 = numpy.array([[0, 1, 1], [1, 3, 2], [1, 2, 2]], dtype=float)\n",
    "b3 = numpy.array([[4], [6], [5]], dtype=float)\n",
    "row = coeff1.shape[0]\n",
    "col = coeff1.shape[1]\n",
    "for k in range(row):\n",
    "    # 对列选主元\n",
    "    ck = coeff1.T[k][k:col]\n",
    "    t = numpy.where(ck == max(ck))\n",
    "    t_max = ck[t[0][0]]\n",
    "    if t_max == 0:\n",
    "        print(\"矩阵奇异\")\n",
    "        break\n",
    "    t1 = numpy.copy(coeff1[k+t[0][0]])\n",
    "    coeff1[k+t[0][0]] = coeff1[k]\n",
    "    coeff1[k] = t1\n",
    "    # 修改b矩阵\n",
    "    t2 = numpy.copy(b3[k+t[0][0]])\n",
    "    b3[k+t[0][0]] = b3[k]\n",
    "    b3[k] = t2\n",
    "\n",
    "    # 转入一般的高斯消元法\n",
    "    i = k + 1\n",
    "    while i < row:\n",
    "        m = coeff1[i][k] / coeff1[k][k]\n",
    "        coeff1[i] = (-m * coeff1[k]) + coeff1[i]\n",
    "        b3[i] = (-m * b3[k]) + b3[i]\n",
    "        i += 1\n",
    "print(coeff1)\n",
    "print(b3)"
   ]
  },
  {
   "cell_type": "code",
   "execution_count": 11,
   "metadata": {},
   "outputs": [
    {
     "name": "stdout",
     "output_type": "stream",
     "text": [
      "[[-3.]\n",
      " [ 1.]\n",
      " [ 3.]]\n"
     ]
    }
   ],
   "source": [
    "#  回代\n",
    "n = coeff1.shape[0] - 1\n",
    "row = coeff1.shape[0]\n",
    "col = coeff1.shape[1]\n",
    "b4 = copy.deepcopy(b3)\n",
    "b4[n] = b4[n] / coeff1[n][n]\n",
    "n -= 1\n",
    "while n >= 0:\n",
    "    tsum = 0\n",
    "    i = n\n",
    "    j = i + 1\n",
    "    while j < col:\n",
    "        tsum += coeff1[i][j] * b4[j]\n",
    "        j += 1\n",
    "    b4[n] = (b4[n] - tsum) / coeff1[n][n]\n",
    "    n -= 1\n",
    "print(b4)"
   ]
  },
  {
   "cell_type": "markdown",
   "metadata": {},
   "source": [
    "# 高斯-约当消去法"
   ]
  },
  {
   "cell_type": "code",
   "execution_count": 7,
   "metadata": {},
   "outputs": [
    {
     "name": "stdout",
     "output_type": "stream",
     "text": [
      "[[ 4.   0.   0. ]\n",
      " [ 0.  -0.5  0. ]\n",
      " [ 0.   0.  -7. ]]\n",
      "[[ 4.]\n",
      " [-1.]\n",
      " [-7.]]\n"
     ]
    }
   ],
   "source": [
    "coeff2 = numpy.array([[4, 3, 1], [2, 1, 2], [6, 1, 5]], dtype=float)\n",
    "b5 = numpy.array([[11], [6], [13]], dtype=float)\n",
    "row = coeff2.shape[0]\n",
    "col = coeff2.shape[1]\n",
    "# 消元\n",
    "for k in range(row):\n",
    "    i = 0\n",
    "    for i in range(row):\n",
    "        if i == k:\n",
    "            continue\n",
    "        m = coeff2[i][k] / coeff2[k][k]\n",
    "        coeff2[i] = (-m * coeff2[k]) + coeff2[i]\n",
    "        b5[i] = (-m * b5[k]) + b5[i]\n",
    "print(coeff2)\n",
    "print(b5)"
   ]
  },
  {
   "cell_type": "code",
   "execution_count": 8,
   "metadata": {},
   "outputs": [
    {
     "name": "stdout",
     "output_type": "stream",
     "text": [
      "[[1.]\n",
      " [2.]\n",
      " [1.]]\n"
     ]
    }
   ],
   "source": [
    "# 求解\n",
    "for k in range(row):\n",
    "    b5[k] = b5[k] / coeff2[k][k]\n",
    "print(b5)"
   ]
  },
  {
   "cell_type": "markdown",
   "metadata": {},
   "source": [
    "# 归一化的高斯-约当法求逆矩阵"
   ]
  },
  {
   "cell_type": "code",
   "execution_count": 12,
   "metadata": {},
   "outputs": [
    {
     "name": "stdout",
     "output_type": "stream",
     "text": [
      "[[ 0.          0.33333333  0.33333333]\n",
      " [-0.          0.33333333 -0.66666667]\n",
      " [-1.          0.66666667 -0.33333333]]\n"
     ]
    }
   ],
   "source": [
    "A = numpy.array([[1, 1, -1], [2, 1, 0], [1, -1, 0]], dtype=float)\n",
    "A1 = numpy.concatenate((A, numpy.identity(A.shape[0], dtype=float)), axis=1)\n",
    "row = A1.shape[0]\n",
    "col = A1.shape[1]\n",
    "for k in range(row):\n",
    "    # 选主元\n",
    "    ck = A1.T[k][k:row]\n",
    "    ck = abs(ck)\n",
    "    t = numpy.where(ck == max(ck))\n",
    "    t_max = ck[t[0][0]]\n",
    "    if t_max == 0:\n",
    "        print(\"矩阵奇异\")\n",
    "        break\n",
    "    t1 = numpy.copy(A1[k+t[0][0]])\n",
    "    A1[k+t[0][0]] = A1[k]\n",
    "    A1[k] = t1\n",
    "    # 归一化\n",
    "    A1[k] = A1[k] / A1[k][k]\n",
    "    # 转入一般的高斯-约当消去法\n",
    "    i = 0\n",
    "    for i in range(row):\n",
    "        if i == k:\n",
    "            continue\n",
    "        m = A1[i][k] / A1[k][k]\n",
    "        A1[i] = (-m * A1[k]) + A1[i]\n",
    "print(numpy.split(A1, 2, axis=1)[1])"
   ]
  },
  {
   "cell_type": "code",
   "execution_count": 13,
   "metadata": {},
   "outputs": [
    {
     "name": "stdout",
     "output_type": "stream",
     "text": [
      "[[ 0.          0.33333333  0.33333333]\n",
      " [-0.          0.33333333 -0.66666667]\n",
      " [-1.          0.66666667 -0.33333333]]\n",
      "[[ 0.          0.33333333  0.33333333]\n",
      " [-0.          0.33333333 -0.66666667]\n",
      " [-1.          0.66666667 -0.33333333]]\n"
     ]
    }
   ],
   "source": [
    "# 用库计算逆矩阵\n",
    "print(numpy.linalg.inv(A))\n",
    "print(numpy.matrix(A).I)"
   ]
  }
 ],
 "metadata": {
  "interpreter": {
   "hash": "89e710d72e4426905d90e21aa643745791abbcf87b6bdc24f05c022f86276e5e"
  },
  "kernelspec": {
   "display_name": "Python 3.9.12 64-bit ('py39_u': conda)",
   "language": "python",
   "name": "python3"
  },
  "language_info": {
   "codemirror_mode": {
    "name": "ipython",
    "version": 3
   },
   "file_extension": ".py",
   "mimetype": "text/x-python",
   "name": "python",
   "nbconvert_exporter": "python",
   "pygments_lexer": "ipython3",
   "version": "3.9.12"
  },
  "orig_nbformat": 2
 },
 "nbformat": 4,
 "nbformat_minor": 2
}
