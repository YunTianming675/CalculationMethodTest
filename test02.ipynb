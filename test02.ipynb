{
 "cells": [
  {
   "cell_type": "code",
   "execution_count": 1,
   "metadata": {},
   "outputs": [],
   "source": [
    "import numpy"
   ]
  },
  {
   "cell_type": "code",
   "execution_count": 2,
   "metadata": {},
   "outputs": [],
   "source": [
    "def search_sts(coeff: list, x_left: float, x_right: float, step: float) -> tuple:\n",
    "    \"\"\"逐步搜索法求根的范围\n",
    "    Args:\n",
    "        :param coeff - 包含多项式系数的列表\n",
    "        :param x_left - 搜索起点\n",
    "        :param x_right - 搜索终点\n",
    "        :param step - 步长\n",
    "    Returns:\n",
    "        tuple -> 包含根范围的元组\n",
    "    \"\"\"\n",
    "    poly = numpy.poly1d(coeff, r=False, variable=\"x\")\n",
    "    x = x_left\n",
    "    while x < x_right:\n",
    "        if poly(x) == 0:\n",
    "            break\n",
    "        elif poly(x) * poly(x+step) < 0:\n",
    "            return (x, x+step)\n",
    "        else:\n",
    "            x += step\n",
    "    return (x, x+step)"
   ]
  },
  {
   "cell_type": "code",
   "execution_count": 3,
   "metadata": {},
   "outputs": [
    {
     "name": "stdout",
     "output_type": "stream",
     "text": [
      "(1.3000000000000005, 1.3500000000000005)\n"
     ]
    }
   ],
   "source": [
    "coeff = [1, 0, -1, -1]\n",
    "print(search_sts(coeff, 0, 2, 0.05))"
   ]
  },
  {
   "cell_type": "code",
   "execution_count": 18,
   "metadata": {},
   "outputs": [
    {
     "data": {
      "text/plain": [
       "0.510955810546875"
      ]
     },
     "execution_count": 18,
     "metadata": {},
     "output_type": "execute_result"
    }
   ],
   "source": [
    "def interval_dichotomy(coeff: list, scope: list, precision: float) -> float:\n",
    "    \"\"\"区间二分法求根\n",
    "    Args:\n",
    "        :param coeff - 包含多项式系数的列表\n",
    "        :param scope - 根的范围\n",
    "        :param precision - 精度\n",
    "    Returns:\n",
    "        float -> 结果\n",
    "    \"\"\"\n",
    "    # k的计算本来应再减去1，但1与进1取整抵消\n",
    "    k = -int((numpy.log10(precision)-numpy.log10(scope[1]-scope[0]))/numpy.log10(2))\n",
    "    poly = numpy.poly1d(coeff, r=False, variable=\"x\")\n",
    "    s = list(scope)  # 形参是浅拷贝，避免对外部的影响\n",
    "    for _ in range(k):\n",
    "        m =  (s[0]+s[1]) / 2\n",
    "        middle = poly(m) - numpy.sin(m)\n",
    "        if middle == 0:\n",
    "            return middle\n",
    "        elif middle*poly(s[0]) < 0:\n",
    "            s[1] = m\n",
    "        else:\n",
    "            s[0] = m\n",
    "    return (s[0]+s[1]) / 2"
   ]
  },
  {
   "cell_type": "code",
   "execution_count": 12,
   "metadata": {},
   "outputs": [
    {
     "data": {
      "text/plain": [
       "1"
      ]
     },
     "execution_count": 12,
     "metadata": {},
     "output_type": "execute_result"
    }
   ],
   "source": [
    "interval_dichotomy([-1, 1], (0, 1), 0.5*pow(10, -4))"
   ]
  },
  {
   "cell_type": "code",
   "execution_count": 2,
   "metadata": {},
   "outputs": [
    {
     "name": "stdout",
     "output_type": "stream",
     "text": [
      "1.4812480342036851\n",
      "1.4727057296393942\n",
      "1.4688173136644993\n",
      "1.4670479732005974\n",
      "1.466243010114747\n",
      "1.4658768201688133\n",
      "1.465710240775865\n",
      "1.4656344652385098\n",
      "1.4655999958533155\n",
      "1.4655843161956508\n"
     ]
    }
   ],
   "source": [
    "x0 = 1.5\n",
    "poly_1 = numpy.poly1d([1, 0, 1], r=False, variable=\"x\")\n",
    "for _ in range(10):\n",
    "    x1 = numpy.power(poly_1(x0), 1/3)\n",
    "    print(x1)\n",
    "    if x1 != x0:\n",
    "        x0 = x1\n",
    "    else:\n",
    "        break\n",
    "    pass"
   ]
  }
 ],
 "metadata": {
  "interpreter": {
   "hash": "02ff5e27797daeaa0948c4b94baa3595a960b1b8b0b3387a5ff33d8d58950cf9"
  },
  "kernelspec": {
   "display_name": "Python 3.8.13 ('py38_cu101_setup595')",
   "language": "python",
   "name": "python3"
  },
  "language_info": {
   "codemirror_mode": {
    "name": "ipython",
    "version": 3
   },
   "file_extension": ".py",
   "mimetype": "text/x-python",
   "name": "python",
   "nbconvert_exporter": "python",
   "pygments_lexer": "ipython3",
   "version": "3.8.13"
  },
  "orig_nbformat": 4
 },
 "nbformat": 4,
 "nbformat_minor": 2
}
