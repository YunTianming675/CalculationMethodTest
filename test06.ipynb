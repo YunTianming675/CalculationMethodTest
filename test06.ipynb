{
 "cells": [
  {
   "cell_type": "code",
   "execution_count": 1,
   "metadata": {},
   "outputs": [],
   "source": [
    "import numpy\n",
    "import sympy"
   ]
  },
  {
   "cell_type": "code",
   "execution_count": 2,
   "metadata": {},
   "outputs": [],
   "source": [
    "x1 = [100, 121, 144]\n",
    "y1 = [10, 11, 12]"
   ]
  },
  {
   "cell_type": "code",
   "execution_count": 6,
   "metadata": {},
   "outputs": [
    {
     "name": "stdout",
     "output_type": "stream",
     "text": [
      "10.7142857142857\n"
     ]
    }
   ],
   "source": [
    "# 线性插值\n",
    "x = sympy.symbols(\"x\")\n",
    "L = (x - x1[1]) / (x1[0] - x1[1]) * y1[0] + (x - x1[0]) / (x1[1] - x1[0]) * y1[1]\n",
    "print(L.evalf(subs={x:115}))"
   ]
  },
  {
   "cell_type": "code",
   "execution_count": 7,
   "metadata": {},
   "outputs": [],
   "source": [
    "# 抛物线插值\n",
    "L1 = (x - x1[1]) * (x - x1[2]) * y1[0] / ((x1[0] - x1[1]) * (x1[0] - x1[2])) +\\\n",
    "    (x - x1[0]) * (x - x1[2]) * y1[1] / ((x1[1] - x1[0]) * (x1[1] - x1[2])) +\\\n",
    "        (x - x1[0]) * (x - x1[1]) * y1[2] / ((x1[2] - x1[0]) * (x1[2] - x1[1]))"
   ]
  },
  {
   "cell_type": "code",
   "execution_count": 10,
   "metadata": {},
   "outputs": [
    {
     "name": "stdout",
     "output_type": "stream",
     "text": [
      "10.7227555053642\n"
     ]
    }
   ],
   "source": [
    "print(L1.evalf(subs={x:115}))"
   ]
  },
  {
   "cell_type": "code",
   "execution_count": 17,
   "metadata": {},
   "outputs": [
    {
     "name": "stdout",
     "output_type": "stream",
     "text": [
      "-27.9146784058025\n"
     ]
    }
   ],
   "source": [
    "x2 = [1, 2, 3, 4, 5]\n",
    "# x2 = [100, 121, 144]\n",
    "y2 = [0, -5, -6, 3, 4]\n",
    "# y2 = [10, 11, 12]\n",
    "x3 = 1.3333\n",
    "# x3 = 115\n",
    "n = len(x2)\n",
    "y = 0\n",
    "k = 0\n",
    "while k < n:\n",
    "    t = 1\n",
    "    j = 0\n",
    "    while j < n:\n",
    "        if j == k:\n",
    "            t = 1\n",
    "            j += 1\n",
    "            continue\n",
    "        t = (x3 - x2[j]) / (x2[k] - x2[j]) * t\n",
    "        j += 1\n",
    "    y = y + t * y2[k]\n",
    "    k += 1\n",
    "print(y)"
   ]
  }
 ],
 "metadata": {
  "interpreter": {
   "hash": "89e710d72e4426905d90e21aa643745791abbcf87b6bdc24f05c022f86276e5e"
  },
  "kernelspec": {
   "display_name": "Python 3.9.12 ('py39_u')",
   "language": "python",
   "name": "python3"
  },
  "language_info": {
   "codemirror_mode": {
    "name": "ipython",
    "version": 3
   },
   "file_extension": ".py",
   "mimetype": "text/x-python",
   "name": "python",
   "nbconvert_exporter": "python",
   "pygments_lexer": "ipython3",
   "version": "3.9.12"
  },
  "orig_nbformat": 4
 },
 "nbformat": 4,
 "nbformat_minor": 2
}
