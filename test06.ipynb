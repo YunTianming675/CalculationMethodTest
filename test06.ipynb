{
 "cells": [
  {
   "cell_type": "code",
   "execution_count": 27,
   "metadata": {},
   "outputs": [],
   "source": [
    "import copy\n",
    "import numpy\n",
    "import sympy"
   ]
  },
  {
   "cell_type": "code",
   "execution_count": 2,
   "metadata": {},
   "outputs": [],
   "source": [
    "x1 = [100, 121, 144]\n",
    "y1 = [10, 11, 12]"
   ]
  },
  {
   "cell_type": "code",
   "execution_count": 3,
   "metadata": {},
   "outputs": [
    {
     "name": "stdout",
     "output_type": "stream",
     "text": [
      "10.7142857142857\n"
     ]
    }
   ],
   "source": [
    "# 线性插值\n",
    "x = sympy.symbols(\"x\")\n",
    "L = (x - x1[1]) / (x1[0] - x1[1]) * y1[0] + (x - x1[0]) / (x1[1] - x1[0]) * y1[1]\n",
    "print(L.evalf(subs={x:115}))"
   ]
  },
  {
   "cell_type": "code",
   "execution_count": 4,
   "metadata": {},
   "outputs": [],
   "source": [
    "# 抛物线插值\n",
    "L1 = (x - x1[1]) * (x - x1[2]) * y1[0] / ((x1[0] - x1[1]) * (x1[0] - x1[2])) +\\\n",
    "    (x - x1[0]) * (x - x1[2]) * y1[1] / ((x1[1] - x1[0]) * (x1[1] - x1[2])) +\\\n",
    "        (x - x1[0]) * (x - x1[1]) * y1[2] / ((x1[2] - x1[0]) * (x1[2] - x1[1]))"
   ]
  },
  {
   "cell_type": "code",
   "execution_count": 5,
   "metadata": {},
   "outputs": [
    {
     "name": "stdout",
     "output_type": "stream",
     "text": [
      "10.7227555053642\n"
     ]
    }
   ],
   "source": [
    "print(L1.evalf(subs={x:115}))"
   ]
  },
  {
   "cell_type": "markdown",
   "metadata": {},
   "source": [
    "# 拉格朗日插值"
   ]
  },
  {
   "cell_type": "code",
   "execution_count": 8,
   "metadata": {},
   "outputs": [
    {
     "name": "stdout",
     "output_type": "stream",
     "text": [
      "-3.6213687006164417\n"
     ]
    }
   ],
   "source": [
    "x2 = [1, 2, 3, 4, 5]\n",
    "y2 = [0, -5, -6, 3, 4]\n",
    "x3 = 1.3333\n",
    "# x2 = [100, 121, 144]\n",
    "# y2 = [10, 11, 12]\n",
    "# x3 = 115\n",
    "n = len(x2)\n",
    "y = 0\n",
    "k = 0\n",
    "# 先算分子，分子只用算一次\n",
    "while k < n:\n",
    "    t1 = 1\n",
    "    j = 0\n",
    "    while j < n:\n",
    "        t1 = (x3 - x2[j]) * t1\n",
    "        j += 1 \n",
    "    k += 1\n",
    "k = 0\n",
    "while k < n:\n",
    "    # 再计算分母\n",
    "    t2 = 1\n",
    "    j = 0\n",
    "    while j < n:\n",
    "        if j == k:\n",
    "            j += 1\n",
    "            continue\n",
    "        t2 = (x2[k] - x2[j]) * t2\n",
    "        j += 1\n",
    "    y = y + t1 * y2[k] / t2\n",
    "    k += 1\n",
    "print(y)"
   ]
  },
  {
   "cell_type": "code",
   "execution_count": 10,
   "metadata": {},
   "outputs": [
    {
     "name": "stdout",
     "output_type": "stream",
     "text": [
      "5*(x - 5)*(x - 4)*(x - 3)*(x - 1)/6 - 3*(x - 5)*(x - 4)*(x - 2)*(x - 1)/2 - (x - 5)*(x - 3)*(x - 2)*(x - 1)/2 + (x - 4)*(x - 3)*(x - 2)*(x - 1)/6\n"
     ]
    }
   ],
   "source": [
    "x2 = [1, 2, 3, 4, 5]\n",
    "y2 = [0, -5, -6, 3, 4]\n",
    "L2 = 0\n",
    "for i in range(len(x2)):\n",
    "    t1 = 1\n",
    "    t2 = 1\n",
    "    for j in range(len(x2)):\n",
    "        if j == i:\n",
    "            continue\n",
    "        t1 = t1 * (x2[i] - x2[j])\n",
    "        t2 = t2 * (x - x2[j])\n",
    "    L2 = L2 + t2 / t1 * y2[i]\n",
    "print(L2)"
   ]
  },
  {
   "cell_type": "code",
   "execution_count": 11,
   "metadata": {},
   "outputs": [
    {
     "name": "stdout",
     "output_type": "stream",
     "text": [
      "-x**4 + 11*x**3 - 39*x**2 + 50*x - 21\n"
     ]
    }
   ],
   "source": [
    "print(sympy.expand(L2))"
   ]
  },
  {
   "cell_type": "code",
   "execution_count": 12,
   "metadata": {},
   "outputs": [
    {
     "name": "stdout",
     "output_type": "stream",
     "text": [
      "-0.752925932222432\n"
     ]
    }
   ],
   "source": [
    "print(L2.evalf(subs={x:1.3333}))"
   ]
  },
  {
   "cell_type": "code",
   "execution_count": 14,
   "metadata": {},
   "outputs": [],
   "source": [
    "x3 = [0.4, 0.55, 0.65, 0.8, 0.9, 1.05]\n",
    "y3 = [0.41075, 0.57815, 0.69675, 0.88811, 1.02652, 1.25382]"
   ]
  },
  {
   "cell_type": "code",
   "execution_count": 20,
   "metadata": {},
   "outputs": [
    {
     "name": "stdout",
     "output_type": "stream",
     "text": [
      "[0.41075, 0.57815, 0.69675, 0.88811, 1.02652, 1.25382]\n"
     ]
    }
   ],
   "source": [
    "# 0阶差商\n",
    "n = len(x3)\n",
    "diff_quo_0 = y3\n",
    "print(diff_quo_0)"
   ]
  },
  {
   "cell_type": "code",
   "execution_count": 21,
   "metadata": {},
   "outputs": [
    {
     "name": "stdout",
     "output_type": "stream",
     "text": [
      "[1.116, 1.1859999999999995, 1.275733333333333, 1.3841000000000017, 1.515333333333332]\n"
     ]
    }
   ],
   "source": [
    "# 1阶差商\n",
    "diff_quo_1 = list()\n",
    "for i in range(1, n):\n",
    "    diff_quo_1.append((diff_quo_0[i] - diff_quo_0[i-1]) / (x3[i] - x3[i-1]))\n",
    "print(diff_quo_1)"
   ]
  },
  {
   "cell_type": "code",
   "execution_count": 22,
   "metadata": {},
   "outputs": [
    {
     "name": "stdout",
     "output_type": "stream",
     "text": [
      "[0.2799999999999976, 0.35893333333333377, 0.4334666666666749, 0.5249333333333217]\n"
     ]
    }
   ],
   "source": [
    "# 2阶差商\n",
    "diff_quo_2 = list()\n",
    "for i in range(2, n):\n",
    "    diff_quo_2.append((diff_quo_1[i-1] - diff_quo_1[i-2]) / (x3[i] - x3[i-2]))\n",
    "print(diff_quo_2)"
   ]
  },
  {
   "cell_type": "code",
   "execution_count": 23,
   "metadata": {},
   "outputs": [
    {
     "name": "stdout",
     "output_type": "stream",
     "text": [
      "[0.19733333333334047, 0.21295238095240318, 0.22866666666661706]\n"
     ]
    }
   ],
   "source": [
    "# 3阶差商\n",
    "diff_quo_3 = list()\n",
    "for i in range(3, n):\n",
    "    diff_quo_3.append((diff_quo_2[i-2] - diff_quo_2[i-3]) / (x3[i] - x3[i-3]))\n",
    "print(diff_quo_3)"
   ]
  },
  {
   "cell_type": "code",
   "execution_count": 24,
   "metadata": {},
   "outputs": [
    {
     "name": "stdout",
     "output_type": "stream",
     "text": [
      "[0.03123809523812543, 0.031428571428427754]\n"
     ]
    }
   ],
   "source": [
    "# 4阶差商\n",
    "diff_quo_4 = list()\n",
    "for i in range(4, 6):\n",
    "    diff_quo_4.append((diff_quo_3[i-3] - diff_quo_3[i-4]) / (x3[i] - x3[i-4]))\n",
    "print(diff_quo_4)"
   ]
  },
  {
   "cell_type": "markdown",
   "metadata": {},
   "source": [
    "# 将差商的计算封装成函数"
   ]
  },
  {
   "cell_type": "code",
   "execution_count": 42,
   "metadata": {},
   "outputs": [
    {
     "name": "stdout",
     "output_type": "stream",
     "text": [
      "[0.41075, 0.57815, 0.69675, 0.88811, 1.02652, 1.25382]\n",
      "[1.116, 1.1859999999999995, 1.275733333333333, 1.3841000000000017, 1.515333333333332]\n",
      "[0.2799999999999976, 0.35893333333333377, 0.4334666666666749, 0.5249333333333217]\n",
      "[0.19733333333334047, 0.21295238095240318, 0.22866666666661706]\n"
     ]
    }
   ],
   "source": [
    "def get_diff_quo(n: int, x_list: list, y_list: list) -> list:\n",
    "    \"\"\"计算差商\n",
    "    Args:\n",
    "        :param - n：需要的最高差商的阶数\n",
    "        :param - x_list：x值\n",
    "        :param - y_list：y值\n",
    "    Return:\n",
    "        list：包含各阶差商的列表\n",
    "    \"\"\"\n",
    "    x5 = copy.deepcopy(x_list)\n",
    "    y5 = copy.deepcopy(y_list)\n",
    "\n",
    "    diff = list()\n",
    "    diff_quo = list()\n",
    "    diff.append(y5)\n",
    "    for i in range(1, n+1):\n",
    "        diff_quo.clear()\n",
    "        for j in range(i, len(x5)):\n",
    "            diff_quo.append((diff[i-1][j-i+1] - diff[i-1][j-i]) / (x5[j] - x5[j-i]))\n",
    "        diff.append(copy.deepcopy(diff_quo))\n",
    "    return diff"
   ]
  },
  {
   "cell_type": "code",
   "execution_count": 41,
   "metadata": {},
   "outputs": [
    {
     "name": "stdout",
     "output_type": "stream",
     "text": [
      "[0.41075, 0.57815, 0.69675, 0.88811, 1.02652, 1.25382]\n",
      "[1.116, 1.1859999999999995, 1.275733333333333, 1.3841000000000017, 1.515333333333332]\n",
      "[0.2799999999999976, 0.35893333333333377, 0.4334666666666749, 0.5249333333333217]\n",
      "[0.19733333333334047, 0.21295238095240318, 0.22866666666661706]\n",
      "[0.03123809523812543, 0.031428571428427754]\n"
     ]
    }
   ],
   "source": [
    "for _, d in enumerate(get_diff_quo(4, x3, y3)):\n",
    "    print(d)"
   ]
  },
  {
   "cell_type": "code",
   "execution_count": 43,
   "metadata": {},
   "outputs": [],
   "source": [
    "diff1 = get_diff_quo(4, x3, y3)"
   ]
  },
  {
   "cell_type": "markdown",
   "metadata": {},
   "source": [
    "# 以矩阵形式返回"
   ]
  },
  {
   "cell_type": "code",
   "execution_count": 49,
   "metadata": {},
   "outputs": [
    {
     "name": "stdout",
     "output_type": "stream",
     "text": [
      "[[0.41075    0.         0.         0.         0.         0.        ]\n",
      " [0.57815    1.116      0.         0.         0.         0.        ]\n",
      " [0.69675    1.186      0.28       0.         0.         0.        ]\n",
      " [0.88811    1.27573333 0.35893333 0.19733333 0.         0.        ]\n",
      " [1.02652    1.3841     0.43346667 0.21295238 0.0312381  0.        ]\n",
      " [1.25382    1.51533333 0.52493333 0.22866667 0.03142857 0.        ]]\n"
     ]
    }
   ],
   "source": [
    "def get_diff_quo_1(n: int, x_list: list, y_list: list) -> numpy.ndarray:\n",
    "    \"\"\"计算差商\n",
    "    Args:\n",
    "        :param - n：需要的最高差商的阶数\n",
    "        :param - x_list：x值\n",
    "        :param - y_list：y值\n",
    "    Return:\n",
    "        numpy.ndarray：包含各阶差商的矩阵\n",
    "    \"\"\"\n",
    "    x5 = copy.deepcopy(x_list)\n",
    "    y5 = copy.deepcopy(y_list)\n",
    "\n",
    "    diff = numpy.zeros((len(x_list), len(x_list)), dtype=float)\n",
    "    diff[0] = y5\n",
    "    diff = diff.T\n",
    "    for i in range(1, n+1):\n",
    "        for j in range(i, len(x5)):\n",
    "            diff[j][i] = (diff[j][i-1] - diff[j-1][i-1]) / (x5[j] - x5[j-i])\n",
    "    return diff\n",
    "print(get_diff_quo_1(4, x3, y3))"
   ]
  },
  {
   "cell_type": "code",
   "execution_count": 50,
   "metadata": {},
   "outputs": [
    {
     "name": "stdout",
     "output_type": "stream",
     "text": [
      "[[0.41075    0.         0.         0.         0.        ]\n",
      " [0.57815    1.116      0.         0.         0.        ]\n",
      " [0.69675    1.186      0.28       0.         0.        ]\n",
      " [0.88811    1.27573333 0.35893333 0.19733333 0.        ]\n",
      " [1.02652    1.3841     0.43346667 0.21295238 0.0312381 ]]\n"
     ]
    }
   ],
   "source": [
    "x4 = [0.4, 0.55, 0.65, 0.8, 0.9]\n",
    "y4 = [0.41075, 0.57815, 0.69675, 0.88811, 1.02652]\n",
    "diff2 = get_diff_quo_1(4, x4, y4)\n",
    "print(diff2)"
   ]
  },
  {
   "cell_type": "code",
   "execution_count": 55,
   "metadata": {},
   "outputs": [
    {
     "name": "stdout",
     "output_type": "stream",
     "text": [
      "0.279999999999998*x**2 + 0.850000000000002*x + 0.0259499999999994\n",
      "0.632010480000000\n"
     ]
    }
   ],
   "source": [
    "# 二次牛顿插值多项式\n",
    "ploy1 = diff2[0][0] + diff2[1][1] * (x - x4[0]) + diff2[2][2] * (x - x4[0]) * (x - x4[1])\n",
    "print(sympy.expand(ploy1))\n",
    "print(ploy1.evalf(subs={x:0.596}))"
   ]
  },
  {
   "cell_type": "code",
   "execution_count": 56,
   "metadata": {},
   "outputs": [
    {
     "name": "stdout",
     "output_type": "stream",
     "text": [
      "0.19733333333334*x**3 - 0.0357333333333472*x**2 + 1.01526666666667*x - 0.00226866666666828\n",
      "0.631914405504000\n"
     ]
    }
   ],
   "source": [
    "# 三次牛顿插值多项式\n",
    "ploy2 = ploy1 + diff2[3][3] * (x - x4[0]) * (x - x4[1]) * (x - x4[2])\n",
    "print(sympy.expand(ploy2))\n",
    "print(ploy2.evalf(subs={x:0.596}))"
   ]
  },
  {
   "cell_type": "code",
   "execution_count": 57,
   "metadata": {},
   "outputs": [
    {
     "name": "stdout",
     "output_type": "stream",
     "text": [
      "0.0312380952381254*x**4 + 0.122361904761839*x**3 + 0.0304133333333834*x**2 + 0.989870095238079*x + 0.00130497142857327\n",
      "0.631917508079616\n"
     ]
    }
   ],
   "source": [
    "# 四次牛顿插值多项式\n",
    "ploy3 = ploy2 + diff2[4][4] * (x - x4[0]) * (x - x4[1]) * (x - x4[2]) * (x - x4[3])\n",
    "print(sympy.expand(ploy3))\n",
    "print(ploy3.evalf(subs={x:0.596}))"
   ]
  }
 ],
 "metadata": {
  "interpreter": {
   "hash": "89e710d72e4426905d90e21aa643745791abbcf87b6bdc24f05c022f86276e5e"
  },
  "kernelspec": {
   "display_name": "Python 3.9.12 ('py39_u')",
   "language": "python",
   "name": "python3"
  },
  "language_info": {
   "codemirror_mode": {
    "name": "ipython",
    "version": 3
   },
   "file_extension": ".py",
   "mimetype": "text/x-python",
   "name": "python",
   "nbconvert_exporter": "python",
   "pygments_lexer": "ipython3",
   "version": "3.9.12"
  },
  "orig_nbformat": 4
 },
 "nbformat": 4,
 "nbformat_minor": 2
}
